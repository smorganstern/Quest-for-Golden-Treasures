{
 "cells": [
  {
   "cell_type": "markdown",
   "id": "aaa219ee-5a40-4049-bac5-fcc0ac5d4418",
   "metadata": {},
   "source": [
    "# Using YOLOv8 to Recognize Images of Gold\n",
    "\n",
    "YOLOv8 can be used to detect gold in images or video feeds. A key step toward building an automated, ML‑driven metal detector for gold discovery.\n",
    "## Code can be found here: https://github.com/smorganstern/Quest-for-Golden-Treasures/releases\n",
    "\n",
    "---\n",
    "\n",
    "## Setup Instructions (Windows)\n",
    "\n",
    "### 1. Open Anaconda Command Prompt\n",
    "\n",
    "Launch the **Anaconda Prompt** from the Start menu.\n",
    "\n",
    "### 2. Check for Existing Environments\n",
    "\n",
    "```bash\n",
    "conda info --envs\n",
    "\n",
    "### 3. Create a New Environment\n",
    "\n",
    "conda create -n ai python=3.10 -y\n",
    "\n",
    "### 4. Activate the Environment\n",
    "\n",
    "conda activate ai\n",
    "\n",
    "### 5. Install Required Packages\n",
    "\n",
    "pip install ultralytics\n",
    "pip install opencv-python\n",
    "pip install pandas matplotlib\n",
    "\n",
    "### 5. Verify YOLOv8 Installation\n",
    "\n",
    "yolo version\n",
    "\n",
    "### 6. Train or Run the Model \n",
    "\n",
    "yolo task=detect mode=predict model=goldlabels.pt source=\"gold.mp4\"\n",
    "\n",
    "### Optional GPU acceleration\n",
    "\n",
    "Install the latest NVIDIA GPU drivers.\n",
    "Install the CUDA Toolkit (matching the GPU and PyTorch requirements)."
   ]
  }
 ],
 "metadata": {
  "kernelspec": {
   "display_name": "Python [conda env:base] *",
   "language": "python",
   "name": "conda-base-py"
  },
  "language_info": {
   "codemirror_mode": {
    "name": "ipython",
    "version": 3
   },
   "file_extension": ".py",
   "mimetype": "text/x-python",
   "name": "python",
   "nbconvert_exporter": "python",
   "pygments_lexer": "ipython3",
   "version": "3.13.5"
  }
 },
 "nbformat": 4,
 "nbformat_minor": 5
}
